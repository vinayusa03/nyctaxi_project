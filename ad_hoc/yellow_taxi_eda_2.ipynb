{
 "cells": [
  {
   "cell_type": "code",
   "execution_count": 0,
   "metadata": {
    "application/vnd.databricks.v1+cell": {
     "cellMetadata": {
      "byteLimit": 2048000,
      "rowLimit": 10000
     },
     "inputWidgets": {},
     "nuid": "626fed21-9fe2-422a-8773-bdf988b86eac",
     "showTitle": false,
     "tableResultSettingsMap": {},
     "title": ""
    }
   },
   "outputs": [],
   "source": [
    "from pyspark.sql.functions import count, col, date_format"
   ]
  },
  {
   "cell_type": "code",
   "execution_count": 0,
   "metadata": {
    "application/vnd.databricks.v1+cell": {
     "cellMetadata": {
      "byteLimit": 2048000,
      "rowLimit": 10000
     },
     "inputWidgets": {},
     "nuid": "d96e926e-38e1-430d-a8e7-ad34a8d699ef",
     "showTitle": false,
     "tableResultSettingsMap": {},
     "title": ""
    }
   },
   "outputs": [],
   "source": [
    "spark.read.table('nyctaxi.`01_bronze`.yellow_trips_raw')\\\n",
    "            .groupBy('process_month')\\\n",
    "            .agg(count(\"*\").alias('total_count'))\\\n",
    "            .orderBy(date_format(col('process_month'),\"yyyy-MM\"))\\\n",
    "            .display()"
   ]
  },
  {
   "cell_type": "code",
   "execution_count": 0,
   "metadata": {
    "application/vnd.databricks.v1+cell": {
     "cellMetadata": {
      "byteLimit": 2048000,
      "rowLimit": 10000
     },
     "inputWidgets": {},
     "nuid": "65ca9396-1dc5-4b87-bf8a-bef942905c51",
     "showTitle": false,
     "tableResultSettingsMap": {},
     "title": ""
    }
   },
   "outputs": [],
   "source": [
    "spark.read.table('nyctaxi.`02_silver`.yellow_trips_cleansed')\\\n",
    "            .groupBy('process_month')\\\n",
    "            .agg(count(\"*\").alias('total_count'))\\\n",
    "            .orderBy(date_format(col('process_month'),\"yyyy-MM\"))\\\n",
    "            .display()"
   ]
  },
  {
   "cell_type": "code",
   "execution_count": 0,
   "metadata": {
    "application/vnd.databricks.v1+cell": {
     "cellMetadata": {
      "byteLimit": 2048000,
      "rowLimit": 10000
     },
     "inputWidgets": {},
     "nuid": "56e23499-c7ef-4988-a32a-79a3734808b1",
     "showTitle": false,
     "tableResultSettingsMap": {},
     "title": ""
    }
   },
   "outputs": [],
   "source": [
    "spark.read.table('nyctaxi.`02_silver`.yellow_trips_enriched')\\\n",
    "            .groupBy('process_month')\\\n",
    "            .agg(count(\"*\").alias('total_count'))\\\n",
    "            .orderBy(date_format(col('process_month'),\"yyyy-MM\"))\\\n",
    "            .display()"
   ]
  },
  {
   "cell_type": "code",
   "execution_count": 0,
   "metadata": {
    "application/vnd.databricks.v1+cell": {
     "cellMetadata": {
      "byteLimit": 2048000,
      "rowLimit": 10000
     },
     "inputWidgets": {},
     "nuid": "4c7fd6c0-7710-42df-a531-f4a815ca2b28",
     "showTitle": false,
     "tableResultSettingsMap": {},
     "title": ""
    }
   },
   "outputs": [],
   "source": [
    "spark.read.table('nyctaxi.`03_gold`.daily_trip_summary')\\\n",
    "            .groupBy(date_format(col('pickup_date'),'yyyy-MM').alias('process_month'))\\\n",
    "            .agg(count(\"*\").alias('total_count'))\\\n",
    "            .orderBy('process_month')\\\n",
    "            .display()"
   ]
  }
 ],
 "metadata": {
  "application/vnd.databricks.v1+notebook": {
   "computePreferences": null,
   "dashboards": [],
   "environmentMetadata": {
    "base_environment": "",
    "environment_version": "4"
   },
   "inputWidgetPreferences": null,
   "language": "python",
   "notebookMetadata": {
    "pythonIndentUnit": 4
   },
   "notebookName": "yellow_taxi_eda_2",
   "widgets": {}
  },
  "language_info": {
   "name": "python"
  }
 },
 "nbformat": 4,
 "nbformat_minor": 0
}
